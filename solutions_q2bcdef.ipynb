{
 "cells": [
  {
   "cell_type": "markdown",
   "id": "australian-attraction",
   "metadata": {},
   "source": [
    "# STA414: HW2 Q2 bcdef"
   ]
  },
  {
   "cell_type": "markdown",
   "id": "reasonable-singapore",
   "metadata": {},
   "source": [
    "**Date**: February 22, 2021  \n",
    "**First Name**: Mahrukh  \n",
    "**Last Name**: Niazi  \n",
    "**Student Id**: 1003948204"
   ]
  },
  {
   "cell_type": "markdown",
   "id": "decreased-referral",
   "metadata": {},
   "source": [
    "### Q2(b): Figure containing each class mean $\\mu_k$ as an image."
   ]
  },
  {
   "attachments": {
    "means-2.png": {
     "image/png": "[encoded data removed]"
    }
   },
   "cell_type": "markdown",
   "id": "improved-amber",
   "metadata": {},
   "source": [
    "![means-2.png](attachment:means-2.png)"
   ]
  },
  {
   "cell_type": "markdown",
   "id": "breathing-candle",
   "metadata": {},
   "source": [
    "### Q2(c): Report final training and test errors as well as the number of samples used in training."
   ]
  },
  {
   "cell_type": "markdown",
   "id": "promising-candle",
   "metadata": {},
   "source": [
    "Number of samples used was N = 10000.\n",
    "\n",
    "Final training accuracy was 0.8939 = 89.39%.\n",
    "\n",
    "Final test accuracy was 0.825 = 82.50%."
   ]
  },
  {
   "cell_type": "markdown",
   "id": "operational-sequence",
   "metadata": {},
   "source": [
    "### Q2(d): Briefly compare the performance of this model to that of logistic regression."
   ]
  },
  {
   "cell_type": "markdown",
   "id": "dramatic-upgrade",
   "metadata": {},
   "source": [
    "For logistic regression, the final training and test accuracies were 89.43% and 88.10% respectively. For this generative model the final training and test accuracies were 89.39% and 82.50% respectively. Evidently the logistic regression model performed better as the accuracies for both training and test set were higher. This may be because the generative model assumes all the dimensions as independent to one another which is not accurate."
   ]
  },
  {
   "cell_type": "markdown",
   "id": "artistic-kentucky",
   "metadata": {},
   "source": [
    "### Q2(e): Using the generative model you trained, generate 10 images from digit 0 and 10 images from digit 3."
   ]
  },
  {
   "cell_type": "markdown",
   "id": "affd8e09",
   "metadata": {},
   "source": [
    " **Generated 10 images from digit 0, generated with `N_data = 10000`:**"
   ]
  },
  {
   "attachments": {
    "new_images_digit_0.png": {
     "image/png": "[encoded data removed]"
    }
   },
   "cell_type": "markdown",
   "id": "8b794506",
   "metadata": {},
   "source": [
    "![new_images_digit_0.png](attachment:new_images_digit_0.png)"
   ]
  },
  {
   "attachments": {},
   "cell_type": "markdown",
   "id": "bb876b24",
   "metadata": {},
   "source": [
    " **Generated 10 images from digit 3, generated with `N_data = 10000`:**"
   ]
  },
  {
   "attachments": {
    "new_images_digit_3.png": {
     "image/png": "[encoded data removed]"
    }
   },
   "cell_type": "markdown",
   "id": "689a4995",
   "metadata": {},
   "source": [
    "![new_images_digit_3.png](attachment:new_images_digit_3.png)"
   ]
  },
  {
   "cell_type": "markdown",
   "id": "miniature-efficiency",
   "metadata": {},
   "source": [
    "### Q2(f): Code for Q2."
   ]
  },
  {
   "cell_type": "code",
   "execution_count": 1,
   "id": "desperate-template",
   "metadata": {},
   "outputs": [
    {
     "name": "stdout",
     "output_type": "stream",
     "text": [
      "Training accuracy is  0.8939\n",
      "Test accuracy is  0.825\n",
      "Number of samples used was 10000\n"
     ]
    },
    {
     "data": {
      "image/png": "[encoded data removed]",
      "text/plain": [
       "<Figure size 432x288 with 1 Axes>"
      ]
     },
     "metadata": {},
     "output_type": "display_data"
    }
   ],
   "source": [
    "from __future__ import absolute_import\n",
    "from __future__ import print_function\n",
    "from future.standard_library import install_aliases\n",
    "\n",
    "install_aliases()\n",
    "import numpy as np\n",
    "from scipy.special import logsumexp\n",
    "import os\n",
    "import gzip\n",
    "import struct\n",
    "import array\n",
    "import matplotlib.pyplot as plt\n",
    "import matplotlib.image\n",
    "from urllib.request import urlretrieve\n",
    "\n",
    "\n",
    "def download(url, filename):\n",
    "    if not os.path.exists('data'):\n",
    "        os.makedirs('data')\n",
    "    out_file = os.path.join('data', filename)\n",
    "    if not os.path.isfile(out_file):\n",
    "        urlretrieve(url, out_file)\n",
    "\n",
    "\n",
    "def mnist():\n",
    "    base_url = 'http://yann.lecun.com/exdb/mnist/'\n",
    "\n",
    "    def parse_labels(filename):\n",
    "        with gzip.open(filename, 'rb') as fh:\n",
    "            magic, num_data = struct.unpack(\">II\", fh.read(8))\n",
    "            return np.array(array.array(\"B\", fh.read()), dtype=np.uint8)\n",
    "\n",
    "    def parse_images(filename):\n",
    "        with gzip.open(filename, 'rb') as fh:\n",
    "            magic, num_data, rows, cols = struct.unpack(\">IIII\", fh.read(16))\n",
    "            return np.array(array.array(\"B\", fh.read()), dtype=np.uint8).reshape(num_data, rows, cols)\n",
    "\n",
    "    for filename in ['train-images-idx3-ubyte.gz',\n",
    "                     'train-labels-idx1-ubyte.gz',\n",
    "                     't10k-images-idx3-ubyte.gz',\n",
    "                     't10k-labels-idx1-ubyte.gz']:\n",
    "        download(base_url + filename, filename)\n",
    "\n",
    "    train_images = parse_images('data/train-images-idx3-ubyte.gz')\n",
    "    train_labels = parse_labels('data/train-labels-idx1-ubyte.gz')\n",
    "    test_images = parse_images('data/t10k-images-idx3-ubyte.gz')\n",
    "    test_labels = parse_labels('data/t10k-labels-idx1-ubyte.gz')\n",
    "\n",
    "    return train_images, train_labels, test_images[:1000], test_labels[:1000]\n",
    "\n",
    "\n",
    "def load_mnist(N_data=None):\n",
    "    partial_flatten = lambda x: np.reshape(x, (x.shape[0], np.prod(x.shape[1:])))\n",
    "    one_hot = lambda x, k: np.array(x[:, None] == np.arange(k)[None, :], dtype=int)\n",
    "    train_images, train_labels, test_images, test_labels = mnist()\n",
    "    train_images = (partial_flatten(train_images) / 255.0 > .5).astype(float)\n",
    "    test_images = (partial_flatten(test_images) / 255.0 > .5).astype(float)\n",
    "    K_data = 10\n",
    "    train_labels = one_hot(train_labels, K_data)\n",
    "    test_labels = one_hot(test_labels, K_data)\n",
    "    if N_data is not None:\n",
    "        train_images = train_images[:N_data, :]\n",
    "        train_labels = train_labels[:N_data, :]\n",
    "\n",
    "    return train_images, train_labels, test_images, test_labels\n",
    "\n",
    "\n",
    "def plot_images(images, ax, ims_per_row=5, padding=5, digit_dimensions=(28, 28),\n",
    "                cmap=matplotlib.cm.binary, vmin=None, vmax=None):\n",
    "    \"\"\"Images should be a (N_images x pixels) matrix.\"\"\"\n",
    "    N_images = images.shape[0]\n",
    "    N_rows = np.int32(np.ceil(float(N_images) / ims_per_row))\n",
    "    pad_value = np.min(images.ravel())\n",
    "    concat_images = np.full(((digit_dimensions[0] + padding) * N_rows + padding,\n",
    "                             (digit_dimensions[1] + padding) * ims_per_row + padding), pad_value)\n",
    "    for i in range(N_images):\n",
    "        cur_image = np.reshape(images[i, :], digit_dimensions)\n",
    "        row_ix = i // ims_per_row\n",
    "        col_ix = i % ims_per_row\n",
    "        row_start = padding + (padding + digit_dimensions[0]) * row_ix\n",
    "        col_start = padding + (padding + digit_dimensions[1]) * col_ix\n",
    "        concat_images[row_start: row_start + digit_dimensions[0],\n",
    "        col_start: col_start + digit_dimensions[1]] = cur_image\n",
    "        cax = ax.matshow(concat_images, cmap=cmap, vmin=vmin, vmax=vmax)\n",
    "        plt.xticks(np.array([]))\n",
    "        plt.yticks(np.array([]))\n",
    "    return cax\n",
    "\n",
    "\n",
    "def save_images(images, filename, **kwargs):\n",
    "    fig = plt.figure(1)\n",
    "    fig.clf()\n",
    "    ax = fig.add_subplot(111)\n",
    "    plot_images(images, ax, **kwargs)\n",
    "    fig.patch.set_visible(False)\n",
    "    ax.patch.set_visible(False)\n",
    "    plt.savefig(filename)\n",
    "\n",
    "\n",
    "def train_log_regression(images, labels, learning_rate, max_iter):\n",
    "    \"\"\" Used in Q1\n",
    "        Inputs: train_images, train_labels, learning rate,\n",
    "        and max num of iterations in gradient descent\n",
    "        Returns the trained weights (w/o intercept)\"\"\"\n",
    "    \n",
    "    N_data, D_data = images.shape\n",
    "    K_data = labels.shape[1]\n",
    "    weights = np.zeros((D_data, K_data))\n",
    "\n",
    "    # YOU NEED TO WRITE THIS PART\n",
    "\n",
    "    for iter in range(max_iter):\n",
    "\n",
    "        yi_hat = log_softmax(images, weights)\n",
    "        grad = np.dot(images.T, np.exp(yi_hat) - labels)\n",
    "        weights = weights - learning_rate * grad\n",
    "\n",
    "    w0 = None  # No intercept for log-reg\n",
    "    return weights, w0\n",
    "\n",
    "def train_gda(images, labels):\n",
    "    \"\"\" Used in Q2\n",
    "        Inputs: train_images, train_labels\n",
    "        Returns the trained weights, the intercept, and D x K class means, \n",
    "        and D x D common covariance matrix.\"\"\"\n",
    "    N_data, D_data = images.shape\n",
    "    K_data = labels.shape[1]\n",
    "\n",
    "    # YOU NEED TO WRITE THIS PART\n",
    "    \n",
    "\n",
    "    Nk = np.sum(labels, axis=0)\n",
    "    Mu =  (np.dot(labels.T, images) / Nk[:,None]).T\n",
    "    Sigma = [np.eye(D_data)] * K_data\n",
    "    SigmaB = np.eye(D_data)\n",
    "    Pi = Nk / N_data\n",
    "\n",
    "    for k in range(K_data):\n",
    "        data_white = images - np.array([Mu[:, k], ] * N_data)\n",
    "        \n",
    "        Sigma[k] = data_white.T.dot(np.diag(labels[:, k]).dot(data_white)) / Nk[k]\n",
    "        SigmaB = SigmaB + Sigma[k] * Nk[k]\n",
    "    \n",
    "    SigmaB = SigmaB / N_data\n",
    "    SigmaInv = np.linalg.inv(SigmaB)\n",
    "    weights = SigmaInv.dot(Mu)\n",
    "    w0 = np.zeros(K_data)\n",
    "    \n",
    "    for k in range(K_data):\n",
    "        w0[k] = -.5 * SigmaInv.dot(Mu[:, k]).dot(Mu[:, k]) + np.log(Pi[k])\n",
    "\n",
    "    return weights, w0, Mu, Sigma\n",
    "\n",
    "\n",
    "def log_softmax(images, weights, w0=None):\n",
    "    \"\"\" Used in Q1 and Q2\n",
    "        Inputs: images, and weights\n",
    "        Returns the log_softmax values.\"\"\"\n",
    "    if w0 is None: w0 = np.zeros(weights.shape[1])\n",
    "\n",
    "    # YOU NEED TO WRITE THIS PART\n",
    "\n",
    "    numerator = np.dot(images, weights) + w0\n",
    "    denominator = logsumexp(numerator, axis=1)\n",
    "\n",
    "    return numerator - denominator.reshape(-1, 1)\n",
    "\n",
    "def cross_ent(train_labels, log_Y):\n",
    "    \"\"\" Used in Q1\n",
    "        Inputs: log of softmax values and training labels\n",
    "        Returns the cross entropy.\"\"\"\n",
    "\n",
    "    # YOU NEED TO WRITE THIS PART\n",
    "    # assume vectors\n",
    "    \n",
    "    return -np.dot(train_labels, log_Y)\n",
    "\n",
    "def predict(log_softmax):\n",
    "    \"\"\" Used in Q1 and Q2\n",
    "        Inputs: matrix of log softmax values\n",
    "        Returns the predictions\"\"\"\n",
    "\n",
    "    # YOU NEED TO WRITE THIS PART\n",
    "\n",
    "    return np.argmax(log_softmax, axis=1)\n",
    "\n",
    "\n",
    "def accuracy(log_softmax, labels):\n",
    "    \"\"\" Used in Q1 and Q2\n",
    "        Inputs: matrix of log softmax values and 1-of-K labels\n",
    "        Returns the accuracy based on predictions from log likelihood values\"\"\"\n",
    "\n",
    "    # YOU NEED TO WRITE THIS PART\n",
    "    N = labels.shape[0]\n",
    "\n",
    "    ytrue = np.argmax(labels, axis=-1)\n",
    "    ypred = predict(log_softmax)\n",
    "\n",
    "    correct = 0\n",
    "\n",
    "    for i in range(N):\n",
    "        if ypred[i] == ytrue[i]:\n",
    "            correct = correct + 1\n",
    "\n",
    "    return correct / len(ytrue)\n",
    "\n",
    "\n",
    "def main():\n",
    "    N_data = 10000  # Num of samples to be used in training\n",
    "    # Set this to a small number while experimenting.\n",
    "    # For log reg, finally use the entire training dataset for training (N_data=None).\n",
    "    # For gda, use as many training samples as your computer can handle.\n",
    "\n",
    "    train_images, train_labels, test_images, test_labels = load_mnist(N_data)\n",
    "\n",
    "    # Q2: train gaussian discriminant\n",
    "    weights, w0, Mu, Sigma = train_gda(train_images, train_labels)\n",
    "    save_images(Mu.T, 'means.png')\n",
    "    \n",
    "    new_digit = 0\n",
    "    new_images = np.random.multivariate_normal(Mu[:, new_digit], Sigma[0], 10)\n",
    "    save_images((new_images > .5).astype(float), 'new_images_digit_0.png')\n",
    "    \n",
    "    new_digit = 3\n",
    "    new_images = np.random.multivariate_normal(Mu[:, new_digit], Sigma[0], 10)\n",
    "    save_images((new_images > .5).astype(float), 'new_images_digit_3.png')\n",
    "\n",
    "    # evaluation\n",
    "    log_softmax_train = log_softmax(train_images, weights, w0)\n",
    "    log_softmax_test = log_softmax(test_images, weights, w0)\n",
    "\n",
    "    train_accuracy = accuracy(log_softmax_train, train_labels)\n",
    "    test_accuracy = accuracy(log_softmax_test[:1000], test_labels[:1000])\n",
    "\n",
    "    print(\"Training accuracy is \", train_accuracy)\n",
    "    print(\"Test accuracy is \", test_accuracy)\n",
    "    print(f\"Number of samples used was {N_data}\")\n",
    "\n",
    "\n",
    "if __name__ == '__main__':\n",
    "    main()"
   ]
  }
 ],
 "metadata": {
  "kernelspec": {
   "display_name": "Python 3",
   "language": "python",
   "name": "python3"
  },
  "language_info": {
   "codemirror_mode": {
    "name": "ipython",
    "version": 3
   },
   "file_extension": ".py",
   "mimetype": "text/x-python",
   "name": "python",
   "nbconvert_exporter": "python",
   "pygments_lexer": "ipython3",
   "version": "3.8.5"
  }
 },
 "nbformat": 4,
 "nbformat_minor": 5
}
